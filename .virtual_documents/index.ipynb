














# Replace None with appropriate code

# Import pandas using the standard alias
i

# Load 'WorldCupMatches.csv' as a DataFrame
df = None








# Your code here





# Your code here





# Your code here





# Your code here





# Your code here








# Your code here





# Your code here








# Your code here





# Your code here





# Your code here





# Your code here





# Your code here








# Your code here








# Your code here





# Your code here


# Run this cell without changes to see your new column
df.columns





# Run this cell without changes

# Display all records containing the string 'Korea'
df.loc[df['Home Team Name'].str.contains('Korea'), 'Home Team Name']





# Update the 'Home Team Name' and 'Home Team Initials' columns 






# Check the updated columns




